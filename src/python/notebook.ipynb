{
 "cells": [
  {
   "cell_type": "code",
   "execution_count": null,
   "metadata": {},
   "outputs": [],
   "source": [
    "import yfinance as yfimport yfinance as yf\n",
    "import numpy as np\n",
    "import matplotlib.pyplot as plt\n",
    "import seaborn as sns\n",
    "import pyfolio as pf\n",
    "import warnings\n",
    "warnings.filterwarnings('ignore')"
   ]
  },
  {
   "cell_type": "code",
   "execution_count": null,
   "metadata": {},
   "outputs": [],
   "source": [
    "tickers = \"ABEV3.SA ITSA4.SA WEGE3.SA USIM5.SA VALE3.SA ^BVSP\"\n",
    "dados_yahoo = yf.download(tickers=tickers, period=\"5y\")['Adj Close']"
   ]
  },
  {
   "cell_type": "code",
   "execution_count": null,
   "metadata": {},
   "outputs": [],
   "source": [
    "dados_yahoodados_yahoo"
   ]
  },
  {
   "cell_type": "code",
   "execution_count": null,
   "metadata": {},
   "outputs": [],
   "source": [
    "retorno = dados_yahoo.pct_change()retorno = dados_yahoo.pct_change()\n",
    "retorno_acumulado = (1 + retorno).cumprod()\n",
    "retorno_acumulado.iloc[0] = 1retorno_acumulado = (1 + retorno).cumprod()\n",
    "retorno_acumulado.iloc[0] = 1\n",
    "carteira = 10000 * retorno_acumulado.iloc[:, :5]\n",
    "carteira[\"saldo\"] = carteira.sum(axis=1)\n",
    "carteira[\"retorno\"] = carteira[\"saldo\"].pct_change()\n"
   ]
  },
  {
   "cell_type": "code",
   "execution_count": null,
   "metadata": {},
   "outputs": [],
   "source": [
    "pf.create_full_tear_sheet(carteira[\"retorno\"], benchmark_rets=retorno[\"^BVSP\"])"
   ]
  }
 ],
 "metadata": {
  "language_info": {
   "codemirror_mode": {
    "name": "ipython",
    "version": 3
   },
   "file_extension": ".py",
   "mimetype": "text/x-python",
   "name": "python",
   "nbconvert_exporter": "python",
   "pygments_lexer": "ipython3",
   "version": "3.8.3-final"
  },
  "orig_nbformat": 2,
  "kernelspec": {
   "name": "python_defaultSpec_1594524119846",
   "display_name": "Python 3.8.3 64-bit ('app_portfolio': conda)"
  }
 },
 "nbformat": 4,
 "nbformat_minor": 2
}